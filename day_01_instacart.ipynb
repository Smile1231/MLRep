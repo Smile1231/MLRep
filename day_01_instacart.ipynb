{
 "cells": [
  {
   "cell_type": "code",
   "execution_count": 3,
   "metadata": {},
   "outputs": [],
   "source": [
    "import pandas as pd\n",
    "from sklearn.decomposition import PCA"
   ]
  },
  {
   "cell_type": "code",
   "execution_count": 4,
   "metadata": {},
   "outputs": [],
   "source": [
    "# 1、获取数据集\n",
    "# ·商品信息- products.csv：\n",
    "# Fields：product_id, product_name, aisle_id, department_id\n",
    "# ·订单与商品信息- order_products__prior.csv：\n",
    "# Fields：order_id, product_id, add_to_cart_order, reordered \n",
    "# ·用户的订单信息- orders.csv：\n",
    "# Fields：order_id, user_id,eval_set, order_number,order_dow, order_hour_of_day, days_since_prior_order \n",
    "# ·商品所属具体物品类别- aisles.csv：\n",
    "# Fields：aisle_id, aisle \n",
    "\n",
    "products = pd.read_csv(\"./instacart/products.csv\")\n",
    "order_products = pd.read_csv(\"./instacart/order_products__prior.csv\")\n",
    "orders = pd.read_csv(\"./instacart/orders.csv\")\n",
    "aisles = pd.read_csv(\"./instacart/aisles.csv\")"
   ]
  },
  {
   "cell_type": "code",
   "execution_count": 9,
   "metadata": {},
   "outputs": [],
   "source": [
    "# 2、合并表，将user_id和aisle放在一张表上\n",
    "# 1）合并orders和order_products on=order_id tab1:order_id, product_id, user_id\n",
    "tab1 = pd.merge(orders,order_products,on=[\"order_id\",\"order_id\"])"
   ]
  },
  {
   "cell_type": "code",
   "execution_count": 11,
   "metadata": {},
   "outputs": [],
   "source": [
    "# 2）合并tab1和products on=product_id tab2:aisle_id\n",
    "tab2 = pd.merge(tab1,products,on=[\"product_id\",\"product_id\"])"
   ]
  },
  {
   "cell_type": "code",
   "execution_count": 13,
   "metadata": {},
   "outputs": [],
   "source": [
    "# 3）合并tab2和aisles on=aisle_id tab3:user_id, aisle\n",
    "tab3 = pd.merge(tab2,aisles,on=[\"aisle_id\",\"aisle_id\"])"
   ]
  },
  {
   "cell_type": "code",
   "execution_count": 16,
   "metadata": {},
   "outputs": [],
   "source": [
    "# 3、交叉表处理，把user_id和aisle进行分组\n",
    "table = pd.crosstab(tab3[\"user_id\"],tab3[\"aisle_id\"])"
   ]
  },
  {
   "cell_type": "code",
   "execution_count": 22,
   "metadata": {},
   "outputs": [],
   "source": [
    "# 4、主成分分析的方法进行降维\n",
    "# 1）实例化一个转换器类PCA\n",
    "transfer = PCA(n_components=0.95)\n",
    "\n",
    "# 2）fit_transform\n",
    "data = transfer.fit_transform(table)"
   ]
  },
  {
   "cell_type": "code",
   "execution_count": 23,
   "metadata": {},
   "outputs": [
    {
     "name": "stdout",
     "output_type": "stream",
     "text": [
      "(206209, 44)\n"
     ]
    }
   ],
   "source": [
    "print(data.shape)"
   ]
  }
 ],
 "metadata": {
  "interpreter": {
   "hash": "8bf0057d5f00d7bc732059372600cc426556a65d87f37fefc9eb64637facecfd"
  },
  "kernelspec": {
   "display_name": "Python 3.7.11 ('dateUse')",
   "language": "python",
   "name": "python3"
  },
  "language_info": {
   "codemirror_mode": {
    "name": "ipython",
    "version": 3
   },
   "file_extension": ".py",
   "mimetype": "text/x-python",
   "name": "python",
   "nbconvert_exporter": "python",
   "pygments_lexer": "ipython3",
   "version": "3.7.11"
  },
  "orig_nbformat": 4
 },
 "nbformat": 4,
 "nbformat_minor": 2
}
